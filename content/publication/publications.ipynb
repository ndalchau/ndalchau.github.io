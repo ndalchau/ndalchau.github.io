{
 "cells": [
  {
   "cell_type": "markdown",
   "metadata": {
    "deletable": true,
    "editable": true
   },
   "source": [
    "# Publications markdown generator\n",
    "\n",
    "Takes a CSV of publications with metadata and converts them into the format needed for the Hugo website.\n"
   ]
  },
  {
   "cell_type": "code",
   "execution_count": 1,
   "metadata": {
    "collapsed": true,
    "deletable": true,
    "editable": true
   },
   "outputs": [],
   "source": [
    "import pandas as pd"
   ]
  },
  {
   "cell_type": "markdown",
   "metadata": {},
   "source": [
    "## Import CSV\n",
    "\n",
    "Pandas makes this easy with the read_csv function. \n",
    "\n",
    "I found it important to put this data in a tab-separated values format, because there are a lot of commas in this kind of data and comma-separated values can get messed up. However, you can modify the import statement, as pandas also has read_excel(), read_json(), and others."
   ]
  },
  {
   "cell_type": "code",
   "execution_count": 101,
   "metadata": {
    "collapsed": false,
    "deletable": true,
    "editable": true
   },
   "outputs": [],
   "source": [
    "publications = pd.read_csv(\"publications.csv\", header=0, parse_dates=[1], dayfirst=True, na_filter=False)\n",
    "#publications.head()\n"
   ]
  },
  {
   "cell_type": "markdown",
   "metadata": {},
   "source": [
    "## Escape special characters\n",
    "\n",
    "YAML is very picky about how it takes a valid string, so we are replacing single and double quotes (and ampersands) with their HTML encoded equivilents. This makes them look not so readable in raw format, but they are parsed and rendered nicely."
   ]
  },
  {
   "cell_type": "code",
   "execution_count": 102,
   "metadata": {
    "collapsed": true,
    "deletable": true,
    "editable": true
   },
   "outputs": [],
   "source": [
    "html_escape_table = {\n",
    "    \"&\": \"&amp;\",\n",
    "    '\"': \"&quot;\",\n",
    "    \"'\": \"&apos;\",\n",
    "    \":\": \"&#58;\",\n",
    "    \"[\": \"&#91;\",\n",
    "    \"]\": \"&#93;\",\n",
    "    \"/\": \"&#47;\"\n",
    "    }\n",
    "\n",
    "def html_escape(text):\n",
    "    \"\"\"Produce entities within text.\"\"\"\n",
    "    return \"\".join(html_escape_table.get(c,c) for c in text)"
   ]
  },
  {
   "cell_type": "markdown",
   "metadata": {},
   "source": [
    "## Creating the markdown files\n",
    "\n",
    "This is where the heavy lifting is done. This loops through all the rows in the TSV dataframe, then starts to concatentate a big string (```md```) that contains the markdown for each type. It does the YAML metadata first, then does the description for the individual page."
   ]
  },
  {
   "cell_type": "code",
   "execution_count": 103,
   "metadata": {
    "collapsed": false,
    "deletable": true,
    "editable": true
   },
   "outputs": [
    {
     "name": "stdout",
     "output_type": "stream",
     "text": [
      "2021-06-11 00:00:00-neurips-szep.md\n",
      "2021-08-23 00:00:00-frontiers-arce.md\n",
      "2021-07-19 00:00:00-nat-comms-zhang.md\n",
      "2021-05-11 00:00:00-pnas-westhoek.md\n",
      "2021-04-13 00:00:00-nat-comms-ho.md\n",
      "2020-10-15 00:00:00-bmb-krause.md\n",
      "2020-08-11 00:00:00-nat-comms-grant.md\n",
      "2020-02-19 00:00:00-nat-comms-nadezhdin.md\n",
      "2019-09-17 00:00:00-cmsb-spaccasassi.md\n",
      "2019-06-09 00:00:00-icml-roeder.md\n",
      "2019-04-03 00:00:00-nat-nano-joesaar.md\n",
      "2018-10-05 00:00:00-nat-comp-xiang.md\n",
      "2018-08-15 00:00:00-interface-murphy.md\n",
      "2018-07-05 00:00:00-frontiers-boulanger.md\n",
      "2018-06-01 00:00:00-nat-comp-dalchau.md\n",
      "2018-03-14 00:00:00-interface-smith.md\n",
      "2017-11-06 00:00:00-nat-chem-zhang.md\n",
      "2017-10-30 00:00:00-sci-rep-eccleston.md\n",
      "2017-07-24 00:00:00-nat-nano-chatterjee.md\n",
      "2017-07-10 00:00:00-frontiers-eccleston.md\n",
      "2017-01-05 00:00:00-plos-cb-cardelli.md\n",
      "2016-02-08 00:00:00-sci-rep-cardelli.md\n",
      "2016-01-26 00:00:00-msb-grant.md\n",
      "2015-10-20 00:00:00-sci-rep-bailey.md\n",
      "2015-10-05 00:00:00-acs-sb-rudge.md\n",
      "2015-07-21 00:00:00-dna-dalchau.md\n",
      "2015-07-01 00:00:00-acs-sb-dalchau.md\n",
      "2014-10-08 00:00:00-new-phyt-guilbaud.md\n",
      "2014-09-01 00:00:00-dna-dalchau.md\n",
      "2014-07-04 00:00:00-book-cariganano.md\n",
      "2014-03-27 00:00:00-plos-cb-osborne.md\n",
      "2014-02-20 00:00:00-acs-sb-yordanov.md\n",
      "2013-09-23 00:00:00-nat-nano-chen.md\n",
      "2013-09-17 00:00:00-new-phyt-dodd.md\n",
      "2012-06-08 00:00:00-interface-dalchau.md\n",
      "2011-12-23 00:00:00-new-phyt-dalchau.md\n",
      "2011-10-13 00:00:00-plos-cb-dalchau.md\n",
      "2011-03-22 00:00:00-pnas-dalchau.md\n",
      "2010-09-01 00:00:00-tissue-van-hateren.md\n",
      "2010-07-20 00:00:00-pnas-dalchau.md\n",
      "2010-06-03 00:00:00-mpmi-lewsey.md\n",
      "2009-08-03 00:00:00-biosystems-hubbard.md\n",
      "2007-12-14 00:00:00-science-dodd.md\n",
      "2007-06-01 00:00:00-rhythms-hubbard.md\n",
      "2007-03-01 00:00:00-pce-hotta.md\n",
      "2019-08-15 00:00:00-biorxiv-dalchau.md\n",
      "2018-03-21 00:00:00-arxiv-smith.md\n",
      "2018-11-29 00:00:00-biorxiv-carignano.md\n",
      "2014-09-08 00:00:00-cardelli-fest-csikasz-nagy.md\n",
      "2011-02-01 00:00:00-biochemist-dalchau.md\n",
      "2008-12-01 00:00:00-thesis-dalchau.md\n"
     ]
    }
   ],
   "source": [
    "import os\n",
    "\n",
    "from pathlib import Path\n",
    "\n",
    "type_lookup = {\n",
    "    \"none\": 0,\n",
    "    \"conference\": 1,\n",
    "    \"journal\": 2,\n",
    "    \"preprint\": 3,\n",
    "    \"report\": 4,\n",
    "    \"book\": 5,\n",
    "    \"chapter\": 6,\n",
    "    \"thesis\": 7,\n",
    "    \"patent\": 8\n",
    "}\n",
    "\n",
    "for row, item in publications.iterrows():\n",
    "    \n",
    "    md_filename = str(item.pub_date) + \"-\" + item.url_slug + \".md\"\n",
    "    print(md_filename)\n",
    "    html_filename = str(item.pub_date) + \"-\" + item.url_slug\n",
    "    citation = item.venue + (\" \" + str(item.details)) if item.details != \"nan\" else \"\"\n",
    "    year = str(item.pub_date.year)\n",
    "\n",
    "    ## YAML variables    \n",
    "    md = \"---\\ntitle: \\\"\"   + item.title + '\"'\n",
    "    md += \"\\nsubtitle: \\\"\\\"\"\n",
    "    md += \"\\nsummary: \\\"\\\"\"\n",
    "    md += \"\\nauthors: \"\n",
    "    for author in item.authors.split(', '):\n",
    "        md += \"\\n- \" + author\n",
    "    md += \"\\n\\n\"\n",
    "\n",
    "    md += \"\\ntags: []\"\n",
    "    md += \"\\ncategories: []\"\n",
    "    md += \"\\ndate: \" + str(item.pub_date)\n",
    "    md += \"\\npublishDate: \" + str(item.pub_date)\n",
    "    md += \"\\nfeatured: false\"\n",
    "    md += \"\\ndraft: false\"\n",
    "    md += \"\\npublication: '\" + html_escape(item.venue) + \"'\"\n",
    "    md += f\"\\npublication_types: [\\\"{type_lookup[item.type]}\\\"]\" + \"\\n\"\n",
    "    if item.preprint:\n",
    "        md += \"\\nurl_preprint: '\" + item.preprint + \"'\"\n",
    "    if item.doi:\n",
    "        md += \"\\ndoi: '\" + item.doi + \"'\"\n",
    "    md += \"\\nabstract: \" + html_escape(item.abstract) + \"\\n\"\n",
    "\n",
    "    md += \"\\nprojects: []\"\n",
    "    md += \"\\n---\"\n",
    "    \n",
    "    md_folder = Path(year + \"-\" + item.url_slug)\n",
    "    if not(os.path.exists(md_folder)):\n",
    "        os.mkdir(md_folder)\n",
    "    md_filename = \"index.md\"\n",
    "    \n",
    "    with open(md_folder / md_filename, 'wb') as f:\n",
    "        f.write(md.encode('utf-8'))"
   ]
  },
  {
   "cell_type": "code",
   "execution_count": null,
   "metadata": {},
   "outputs": [],
   "source": []
  }
 ],
 "metadata": {
  "interpreter": {
   "hash": "799a5cb2c4332fd2fefb7bb42a7eb2e84eaeaa0b796df7f79f2bab3cb3f688e5"
  },
  "kernelspec": {
   "display_name": "Python 3.9.7 64-bit ('base': conda)",
   "name": "python3"
  },
  "language_info": {
   "codemirror_mode": {
    "name": "ipython",
    "version": 3
   },
   "file_extension": ".py",
   "mimetype": "text/x-python",
   "name": "python",
   "nbconvert_exporter": "python",
   "pygments_lexer": "ipython3",
   "version": "3.9.7"
  }
 },
 "nbformat": 4,
 "nbformat_minor": 0
}
